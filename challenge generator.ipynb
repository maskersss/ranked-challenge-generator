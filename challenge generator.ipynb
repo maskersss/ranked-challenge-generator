{
 "cells": [
  {
   "cell_type": "code",
   "execution_count": 2,
   "id": "b6c74000",
   "metadata": {},
   "outputs": [
    {
     "name": "stdout",
     "output_type": "stream",
     "text": [
      "Brew a potion of strength.\n",
      "Get `Getting an Upgrade` advancement during the run without getting `Stone Age` before this.\n",
      "Play without a calculator.\n"
     ]
    }
   ],
   "source": [
    "# Define the difficulty of the challenges for each match\n",
    "min_difficulty = 2.5\n",
    "ideal_difficulty = 4\n",
    "\n",
    "\n",
    "import random\n",
    "from math import log\n",
    "\n",
    "# Define the list of challenges with their corresponding difficulties and weights\n",
    "challenges = [\n",
    "    {\"name\":\"Play without a calculator.\", \"difficulty\":2.5, \"weight\":1807.2},\n",
    "    {\"name\":\"Have beds of 5 different colors in your inventory at some point during the run. \", \"difficulty\":0.9, \"weight\":2405.5},\n",
    "    {\"name\":\"Obtain an egg at some point during the run.\", \"difficulty\":1.3, \"weight\":43.9},\n",
    "    {\"name\":\"Play without crafting stone tools.\", \"difficulty\":0.12, \"weight\":71.2},\n",
    "    {\"name\":\"Play without getting `Diamonds` advancement.\", \"difficulty\":0.08, \"weight\":200.4},\n",
    "    {\"name\":\"Brew a potion of strength.\", \"difficulty\":1.5, \"weight\":1921.8},\n",
    "    {\"name\":\"Get a potion of speed during the run.\", \"difficulty\":1.4, \"weight\":1808.7},\n",
    "    {\"name\":\"Don't get `Acquire Hardware` advancement before entering the nether.\", \"difficulty\":0.25, \"weight\":452.3},\n",
    "    {\"name\":\"Get `Fishy Business` advancement during the run.\", \"difficulty\":0.13, \"weight\":761.5},\n",
    "    {\"name\":\"Get `Tactical Fishing` advancement during the run.\", \"difficulty\":0.15, \"weight\":406.9},\n",
    "    {\"name\":\"Get `A Seedy Place` advancement during the run.\", \"difficulty\":0.08, \"weight\":659.4},\n",
    "    {\"name\":\"Get `You Need A Mint` advancement during the run.\", \"difficulty\":0.1, \"weight\":722.5},\n",
    "    {\"name\":\"Get `Remote Getaway` advancement during the run.\", \"difficulty\":0.6, \"weight\":846.6},\n",
    "    {\"name\":\"Get `Getting an Upgrade` advancement while being in the end.\", \"difficulty\":0.11, \"weight\":78.6},\n",
    "    {\"name\":\"Get `A Seedy Place` advancement while being in the nether.\", \"difficulty\":0.12, \"weight\":412},\n",
    "    {\"name\":\"Get `A Seedy Place` advancement while being in the end.\", \"difficulty\":0.13, \"weight\":311.5},\n",
    "    {\"name\":\"Get `Best Friends Forever` advancement during the run.\", \"difficulty\":0.42, \"weight\":132.9},\n",
    "    {\"name\":\"Get `This Boat Has Legs` advancement during the run.\", \"difficulty\":0.9, \"weight\":102.5},\n",
    "    {\"name\":\"Get `Bullseye` advancement during the run.\", \"difficulty\":1.5, \"weight\":435.6},\n",
    "    {\"name\":\"Get `Getting an Upgrade` advancement during the run without getting `Stone Age` before this.\", \"difficulty\":0.22, \"weight\":118.4},\n",
    "    {\"name\":\"Get `Sniper Duel` advancement during the run.\", \"difficulty\":1.7, \"weight\":105},\n",
    "    {\"name\":\"Don't get `Into Fire` advancement during the run.\", \"difficulty\":0.74, \"weight\":1076.9},\n",
    "    {\"name\":\"Get `The Next Generation` advancement during the run.\", \"difficulty\":0.1, \"weight\":812.8},\n",
    "    {\"name\":\"Get `Getting an Upgrade` advancement while being in the bastion.\", \"difficulty\":0.09, \"weight\":151.9},\n",
    "    {\"name\":\"Get `Local Brewing` advancement during the run.\", \"difficulty\":0.2, \"weight\":330.3}\n",
    "]\n",
    "\n",
    "\n",
    "# Shuffle the list of challenges\n",
    "random.shuffle(challenges)\n",
    "\n",
    "q = 1\n",
    "\n",
    "# Generate a random set of non-repeating challenges for each match\n",
    "while q > random.uniform(0,1):\n",
    "    match_challenges = []\n",
    "    match_difficulty = 0\n",
    "\n",
    "    # Randomly select non-repeating challenges until the total difficulty is reached\n",
    "    while match_difficulty < min_difficulty:\n",
    "        # Get a list of challenges that haven't been selected before\n",
    "        available_challenges = [c for c in challenges if c[\"name\"] not in match_challenges]\n",
    "        \n",
    "        # Select a random challenge based on the challenge weights\n",
    "        weights = [c[\"weight\"] for c in available_challenges]\n",
    "        idx = random.choices(range(len(available_challenges)), weights=weights)[0]\n",
    "        challenge = available_challenges[idx]\n",
    "        \n",
    "        # Add the challenge to the match\n",
    "        match_challenges.append(challenge[\"name\"])\n",
    "        match_difficulty += challenge[\"difficulty\"]\n",
    "    \n",
    "    q = 12*((log(ideal_difficulty/match_difficulty,2))**2)\n",
    "\n",
    "\n",
    "# Print the challenges for the match\n",
    "for match_challenge in match_challenges:\n",
    "    print(match_challenge)\n"
   ]
  }
 ],
 "metadata": {
  "kernelspec": {
   "display_name": "Python 3 (ipykernel)",
   "language": "python",
   "name": "python3"
  },
  "language_info": {
   "codemirror_mode": {
    "name": "ipython",
    "version": 3
   },
   "file_extension": ".py",
   "mimetype": "text/x-python",
   "name": "python",
   "nbconvert_exporter": "python",
   "pygments_lexer": "ipython3",
   "version": "3.10.9"
  }
 },
 "nbformat": 4,
 "nbformat_minor": 5
}
